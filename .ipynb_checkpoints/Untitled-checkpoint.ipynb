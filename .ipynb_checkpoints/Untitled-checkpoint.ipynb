{
 "cells": [
  {
   "cell_type": "markdown",
   "id": "7299ad56-e4db-46a6-aa5a-c4371628a5bb",
   "metadata": {},
   "source": [
    "# Berechnung der Take-Off Performance für GA-Flugzeuge\n",
    "Die Berechnung wird nach dem Vorbild von Gudmundsson erstellt. Dieser teilt die Segmente folgendermaßen ein: \n",
    "\n",
    "![TOFL](fig/TOFL.png)"
   ]
  },
  {
   "cell_type": "code",
   "execution_count": null,
   "id": "52f99875-aa11-407c-8baa-b9bbbbcea2f8",
   "metadata": {},
   "outputs": [],
   "source": []
  }
 ],
 "metadata": {
  "kernelspec": {
   "display_name": "Python 3",
   "language": "python",
   "name": "python3"
  },
  "language_info": {
   "codemirror_mode": {
    "name": "ipython",
    "version": 3
   },
   "file_extension": ".py",
   "mimetype": "text/x-python",
   "name": "python",
   "nbconvert_exporter": "python",
   "pygments_lexer": "ipython3",
   "version": "3.8.5"
  }
 },
 "nbformat": 4,
 "nbformat_minor": 5
}
