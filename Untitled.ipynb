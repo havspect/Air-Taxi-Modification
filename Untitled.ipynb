{
 "cells": [
  {
   "cell_type": "markdown",
   "id": "7299ad56-e4db-46a6-aa5a-c4371628a5bb",
   "metadata": {},
   "source": [
    "# Berechnung der Take-Off Performance für GA-Flugzeuge\n",
    "Die Berechnung wird nach dem Vorbild von Gudmundsson erstellt. Dieser teilt die Segmente folgendermaßen ein: \n",
    "\n",
    "![TOFL](fig/TOFL.png)\n",
    "\n",
    "Aus der 14 CFR PART 23 §23.51 können außerdem Anforderungen an die verschiedenen Geschwindigkeiten entnommen werden:\n",
    "\n",
    "|Name|Airspeed| GA Aircraft|\n",
    "|-|-|-|\n",
    "|Ground run | $V_R$ | 1.1 $V_{S1}$|\n",
    "|Rotation| $V_{LOF}$ | 1.1 $V_{S1}$ |\n",
    "|Transition| $V_{TR}$ | 1.15 $V_{S1}$ \n",
    "|Climb| $V_{2}$ | 1.2 $V_{S1}$ ||"
   ]
  },
  {
   "cell_type": "code",
   "execution_count": 9,
   "metadata": {},
   "outputs": [],
   "source": [
    "import math\n",
    "import numpy as np\n",
    "import matplotlib.pyplot as plt\n",
    "import pandas as pd"
   ]
  },
  {
   "cell_type": "code",
   "execution_count": 36,
   "id": "52f99875-aa11-407c-8baa-b9bbbbcea2f8",
   "metadata": {},
   "outputs": [],
   "source": [
    "def grad_in_rad(grad: float) -> float:\n",
    "    return grad * (math.pi/180)\n",
    "\n",
    "\n",
    "def kmh_in_ms(kmh: float) -> float:\n",
    "    return kmh / 3.6\n",
    "\n",
    "def calc_T0_plus(delta_T=0) -> float:\n",
    "    \"\"\"\n",
    "    T_0: 288,15 K (SL, 15°C)\n",
    "    delat_T: 10\n",
    "    \"\"\"\n",
    "    return 288.15 + delta_T\n",
    "\n",
    "def calc_rho0_plus(t0_plus: float) -> float:\n",
    "    return 1.225 * (288.15/t0_plus)\n",
    "\n",
    "t0_plus = calc_T0_plus()\n",
    "p0_plus = 101_325  # Pa\n",
    "rho0_plus = calc_rho0_plus(t0_plus)\n",
    "\n",
    "df = pd.DataFrame()\n",
    "df[\"h\"] = np.linspace(0,5000,5001)\n",
    "df[\"t\"] = t0_plus + (-6.5 * (df[\"h\"]/1000))\n",
    "df[\"p\"] = p0_plus * ((1 + (-6.5 * (df[\"h\"]/1000))/t0_plus))**(-(9.81/((-6.5/1000) * 287.058)))\n",
    "df[\"rho\"] = rho0_plus * (1 + ((-6.5 * (df[\"h\"]/1000))/t0_plus))**(-((9.81/((-6.5/1000) * 287.058))+1)) \n"
   ]
  },
  {
   "cell_type": "code",
   "execution_count": 51,
   "metadata": {},
   "outputs": [
    {
     "output_type": "execute_result",
     "data": {
      "text/plain": [
       "           h         t              p       rho        cL        cD        L/D\n",
       "0        0.0  288.1500  101325.000000  1.225000  0.403427  0.036246  11.130306\n",
       "1        5.0  288.1175  101264.929248  1.224412  0.403621  0.036252  11.133809\n",
       "2       10.0  288.0850  101204.887338  1.223824  0.403815  0.036258  11.137312\n",
       "3       15.0  288.0525  101144.874261  1.223236  0.404009  0.036264  11.140815\n",
       "4       20.0  288.0200  101084.890005  1.222649  0.404203  0.036270  11.144318\n",
       "...      ...       ...            ...       ...       ...       ...        ...\n",
       "996   4980.0  255.7800   54153.440130  0.737560  0.670045  0.047229  14.187046\n",
       "997   4985.0  255.7475   54117.273224  0.737161  0.670408  0.047248  14.189120\n",
       "998   4990.0  255.7150   54081.125882  0.736763  0.670770  0.047267  14.191190\n",
       "999   4995.0  255.6825   54044.998093  0.736364  0.671134  0.047285  14.193257\n",
       "1000  5000.0  255.6500   54008.889851  0.735966  0.671497  0.047304  14.195321\n",
       "\n",
       "[1001 rows x 7 columns]"
      ],
      "text/html": "<div>\n<style scoped>\n    .dataframe tbody tr th:only-of-type {\n        vertical-align: middle;\n    }\n\n    .dataframe tbody tr th {\n        vertical-align: top;\n    }\n\n    .dataframe thead th {\n        text-align: right;\n    }\n</style>\n<table border=\"1\" class=\"dataframe\">\n  <thead>\n    <tr style=\"text-align: right;\">\n      <th></th>\n      <th>h</th>\n      <th>t</th>\n      <th>p</th>\n      <th>rho</th>\n      <th>cL</th>\n      <th>cD</th>\n      <th>L/D</th>\n    </tr>\n  </thead>\n  <tbody>\n    <tr>\n      <th>0</th>\n      <td>0.0</td>\n      <td>288.1500</td>\n      <td>101325.000000</td>\n      <td>1.225000</td>\n      <td>0.403427</td>\n      <td>0.036246</td>\n      <td>11.130306</td>\n    </tr>\n    <tr>\n      <th>1</th>\n      <td>5.0</td>\n      <td>288.1175</td>\n      <td>101264.929248</td>\n      <td>1.224412</td>\n      <td>0.403621</td>\n      <td>0.036252</td>\n      <td>11.133809</td>\n    </tr>\n    <tr>\n      <th>2</th>\n      <td>10.0</td>\n      <td>288.0850</td>\n      <td>101204.887338</td>\n      <td>1.223824</td>\n      <td>0.403815</td>\n      <td>0.036258</td>\n      <td>11.137312</td>\n    </tr>\n    <tr>\n      <th>3</th>\n      <td>15.0</td>\n      <td>288.0525</td>\n      <td>101144.874261</td>\n      <td>1.223236</td>\n      <td>0.404009</td>\n      <td>0.036264</td>\n      <td>11.140815</td>\n    </tr>\n    <tr>\n      <th>4</th>\n      <td>20.0</td>\n      <td>288.0200</td>\n      <td>101084.890005</td>\n      <td>1.222649</td>\n      <td>0.404203</td>\n      <td>0.036270</td>\n      <td>11.144318</td>\n    </tr>\n    <tr>\n      <th>...</th>\n      <td>...</td>\n      <td>...</td>\n      <td>...</td>\n      <td>...</td>\n      <td>...</td>\n      <td>...</td>\n      <td>...</td>\n    </tr>\n    <tr>\n      <th>996</th>\n      <td>4980.0</td>\n      <td>255.7800</td>\n      <td>54153.440130</td>\n      <td>0.737560</td>\n      <td>0.670045</td>\n      <td>0.047229</td>\n      <td>14.187046</td>\n    </tr>\n    <tr>\n      <th>997</th>\n      <td>4985.0</td>\n      <td>255.7475</td>\n      <td>54117.273224</td>\n      <td>0.737161</td>\n      <td>0.670408</td>\n      <td>0.047248</td>\n      <td>14.189120</td>\n    </tr>\n    <tr>\n      <th>998</th>\n      <td>4990.0</td>\n      <td>255.7150</td>\n      <td>54081.125882</td>\n      <td>0.736763</td>\n      <td>0.670770</td>\n      <td>0.047267</td>\n      <td>14.191190</td>\n    </tr>\n    <tr>\n      <th>999</th>\n      <td>4995.0</td>\n      <td>255.6825</td>\n      <td>54044.998093</td>\n      <td>0.736364</td>\n      <td>0.671134</td>\n      <td>0.047285</td>\n      <td>14.193257</td>\n    </tr>\n    <tr>\n      <th>1000</th>\n      <td>5000.0</td>\n      <td>255.6500</td>\n      <td>54008.889851</td>\n      <td>0.735966</td>\n      <td>0.671497</td>\n      <td>0.047304</td>\n      <td>14.195321</td>\n    </tr>\n  </tbody>\n</table>\n<p>1001 rows × 7 columns</p>\n</div>"
     },
     "metadata": {},
     "execution_count": 51
    }
   ],
   "source": [
    "def calc_cD(cD_0: float, cL, wing_span:float, wing_area: float, e: float) -> float:\n",
    "    return cD_0 + ((cL ** 2) / (math.pi * (wing_span**2 / wing_area) * e))\n",
    "\n",
    "def calc_cL(weight, speed, wing_area, rho=1.225) -> float:\n",
    "    return (2 * weight * 9.81) / (rho * wing_area * kmh_in_ms(speed)**2)\n",
    "\n",
    "weight = 1980 # kg\n",
    "speed = 250 # km/h\n",
    "wing_area = 16.3 # m^2 \n",
    "wing_span = 13  # m\n",
    "e = 0.8\n",
    "cD_0 = 0.03\n",
    "\n",
    "LoverD = pd.DataFrame()\n",
    "LoverD[\"h\"] = np.linspace(0,5000,1001)\n",
    "LoverD = pd.merge(LoverD, df, left_on=\"h\", right_on=\"h\")\n",
    "LoverD[\"cL\"] = calc_cL(weight, speed, wing_area, rho=LoverD[\"rho\"]) \n",
    "LoverD[\"cD\"] = cD_0 + ((LoverD[\"cL\"] ** 2) / (math.pi * (wing_span**2 / wing_area) * e))\n",
    "LoverD[\"L/D\"] = LoverD.cL / LoverD.cD \n"
   ]
  },
  {
   "cell_type": "code",
   "execution_count": 8,
   "metadata": {},
   "outputs": [
    {
     "output_type": "execute_result",
     "data": {
      "text/plain": [
       "array([0.000e+00, 1.000e+00, 2.000e+00, ..., 4.998e+03, 4.999e+03,\n",
       "       5.000e+03])"
      ]
     },
     "metadata": {},
     "execution_count": 8
    }
   ],
   "source": [
    "np.linspace(0,5000,5001)"
   ]
  },
  {
   "cell_type": "code",
   "execution_count": null,
   "metadata": {},
   "outputs": [],
   "source": []
  }
 ],
 "metadata": {
  "kernelspec": {
   "name": "python394jvsc74a57bd0f228d7dda7dc317207ff9260de2652ceaf82b7bdd09b76480d7bc7247aad3131",
   "display_name": "Python 3.9.4 64-bit ('data': conda)"
  },
  "language_info": {
   "codemirror_mode": {
    "name": "ipython",
    "version": 3
   },
   "file_extension": ".py",
   "mimetype": "text/x-python",
   "name": "python",
   "nbconvert_exporter": "python",
   "pygments_lexer": "ipython3",
   "version": "3.9.4"
  },
  "metadata": {
   "interpreter": {
    "hash": "f228d7dda7dc317207ff9260de2652ceaf82b7bdd09b76480d7bc7247aad3131"
   }
  }
 },
 "nbformat": 4,
 "nbformat_minor": 5
}